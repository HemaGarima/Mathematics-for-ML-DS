{
  "nbformat": 4,
  "nbformat_minor": 0,
  "metadata": {
    "colab": {
      "provenance": [],
      "authorship_tag": "ABX9TyMH5PiDssyHgAOrKQJNMEW9",
      "include_colab_link": true
    },
    "kernelspec": {
      "name": "python3",
      "display_name": "Python 3"
    },
    "language_info": {
      "name": "python"
    }
  },
  "cells": [
    {
      "cell_type": "markdown",
      "metadata": {
        "id": "view-in-github",
        "colab_type": "text"
      },
      "source": [
        "<a href=\"https://colab.research.google.com/github/HemaGarima/Mathematics-for-ML-DS/blob/master/Linear_Algebra_W_2_Numpy_linalg_sub_librarys.ipynb\" target=\"_parent\"><img src=\"https://colab.research.google.com/assets/colab-badge.svg\" alt=\"Open In Colab\"/></a>"
      ]
    },
    {
      "cell_type": "code",
      "execution_count": 21,
      "metadata": {
        "id": "WaN3XssONJBy"
      },
      "outputs": [],
      "source": [
        "import numpy as np"
      ]
    },
    {
      "cell_type": "code",
      "source": [
        "A = np.array([[4,-3,1],[2,1,3],[-1,2,-5]],dtype = np.dtype(float))\n",
        "b = np.array([-10,0,17],dtype = np.dtype(float))\n",
        "print(\"Matrix A:\")\n",
        "print(A)\n",
        "print(\"Matrix B:\")\n",
        "print(b)"
      ],
      "metadata": {
        "colab": {
          "base_uri": "https://localhost:8080/"
        },
        "id": "DBOePsi8NZF8",
        "outputId": "f0b605de-b85a-44c3-c39d-edc1d748d88c"
      },
      "execution_count": 22,
      "outputs": [
        {
          "output_type": "stream",
          "name": "stdout",
          "text": [
            "Matrix A:\n",
            "[[ 4. -3.  1.]\n",
            " [ 2.  1.  3.]\n",
            " [-1.  2. -5.]]\n",
            "Matrix B:\n",
            "[-10.   0.  17.]\n"
          ]
        }
      ]
    },
    {
      "cell_type": "code",
      "source": [
        "print(f\"Shape of A: {np.shape(A)}\")\n",
        "print(f\"Shape of B: {np.shape(b)}\")"
      ],
      "metadata": {
        "colab": {
          "base_uri": "https://localhost:8080/"
        },
        "id": "rQ_ys4SqN7Rw",
        "outputId": "288e3b80-3a4d-43a8-8c92-f4fd766985fb"
      },
      "execution_count": 23,
      "outputs": [
        {
          "output_type": "stream",
          "name": "stdout",
          "text": [
            "Shape of A: (3, 3)\n",
            "Shape of B: (3,)\n"
          ]
        }
      ]
    },
    {
      "cell_type": "code",
      "source": [
        "x = np.linalg.solve(A,b)\n",
        "print(f\"Solution : {x}\")"
      ],
      "metadata": {
        "colab": {
          "base_uri": "https://localhost:8080/"
        },
        "id": "8FKuaRUFOGX4",
        "outputId": "07b2b0ca-110a-4b3b-8a3b-f9f48642af0c"
      },
      "execution_count": 24,
      "outputs": [
        {
          "output_type": "stream",
          "name": "stdout",
          "text": [
            "Solution : [ 1.  4. -2.]\n"
          ]
        }
      ]
    },
    {
      "cell_type": "code",
      "source": [
        "d = np.linalg.det(A)\n",
        "print(f\"Determinant of matrix A : , {d:.2f}\")"
      ],
      "metadata": {
        "colab": {
          "base_uri": "https://localhost:8080/"
        },
        "id": "ubof4CKbOQ7i",
        "outputId": "c49bc196-bae6-41bf-a38e-6513c78f1767"
      },
      "execution_count": 25,
      "outputs": [
        {
          "output_type": "stream",
          "name": "stdout",
          "text": [
            "Determinant of matrix A : , -60.00\n"
          ]
        }
      ]
    },
    {
      "cell_type": "code",
      "source": [
        "A_system = np.hstack((A , b.reshape((3,1))))\n",
        "print(A_system)"
      ],
      "metadata": {
        "colab": {
          "base_uri": "https://localhost:8080/"
        },
        "id": "8f2rJBt7OtkQ",
        "outputId": "f79791e0-64e1-4f07-860d-29df21b8a275"
      },
      "execution_count": 26,
      "outputs": [
        {
          "output_type": "stream",
          "name": "stdout",
          "text": [
            "[[  4.  -3.   1. -10.]\n",
            " [  2.   1.   3.   0.]\n",
            " [ -1.   2.  -5.  17.]]\n"
          ]
        }
      ]
    },
    {
      "cell_type": "code",
      "source": [
        "def MultiplyRow(M , row_num , row_num_multiple):\n",
        "  M_new = M.copy()\n",
        "  M_new[row_num] = M_new[row_num] * row_num_multiple\n",
        "  return M_new"
      ],
      "metadata": {
        "id": "ois_cL8WO86B"
      },
      "execution_count": 27,
      "outputs": []
    },
    {
      "cell_type": "code",
      "source": [
        "print(\"Original Matrix : \")\n",
        "print(A_system)\n",
        "print(\"\\nMatrix after its third row is multiplied by 2 : \")\n",
        "print(MultiplyRow(A_system , 2 , 2))"
      ],
      "metadata": {
        "colab": {
          "base_uri": "https://localhost:8080/"
        },
        "id": "zgRek8BWPhgf",
        "outputId": "d10f0b5e-7edf-4c0b-e7ca-733a1257e8e0"
      },
      "execution_count": 28,
      "outputs": [
        {
          "output_type": "stream",
          "name": "stdout",
          "text": [
            "Original Matrix : \n",
            "[[  4.  -3.   1. -10.]\n",
            " [  2.   1.   3.   0.]\n",
            " [ -1.   2.  -5.  17.]]\n",
            "\n",
            "Matrix after its third row is multiplied by 2 : \n",
            "[[  4.  -3.   1. -10.]\n",
            " [  2.   1.   3.   0.]\n",
            " [ -2.   4. -10.  34.]]\n"
          ]
        }
      ]
    },
    {
      "cell_type": "code",
      "source": [
        "def AddRows(M , row_num_1 , row_num_2 , row_num_1_multiple):\n",
        "  M_new = M.copy()\n",
        "  M_new[row_num_2] = row_num_1_multiple * M_new[row_num_1] + M_new[row_num_2]\n",
        "  return M_new"
      ],
      "metadata": {
        "id": "snkaF4grP22b"
      },
      "execution_count": 29,
      "outputs": []
    },
    {
      "cell_type": "code",
      "source": [
        "print(\"Original Matrix : \")\n",
        "print(A_system)\n",
        "print(\"\\nMatrix after exchange of the third row with the sum of itself and second row multiplied by 1/2:\")\n",
        "print(AddRows(A_system,1,2,1/2))"
      ],
      "metadata": {
        "colab": {
          "base_uri": "https://localhost:8080/"
        },
        "id": "DfsIRXv7QOky",
        "outputId": "c9042d81-ca78-467e-e9f8-bdc7c03ec927"
      },
      "execution_count": 30,
      "outputs": [
        {
          "output_type": "stream",
          "name": "stdout",
          "text": [
            "Original Matrix : \n",
            "[[  4.  -3.   1. -10.]\n",
            " [  2.   1.   3.   0.]\n",
            " [ -1.   2.  -5.  17.]]\n",
            "\n",
            "Matrix after exchange of the third row with the sum of itself and second row multiplied by 1/2:\n",
            "[[  4.   -3.    1.  -10. ]\n",
            " [  2.    1.    3.    0. ]\n",
            " [  0.    2.5  -3.5  17. ]]\n"
          ]
        }
      ]
    },
    {
      "cell_type": "code",
      "source": [
        "def SwapRows(M , row_num_1 , row_num_2):\n",
        "  M_new = M.copy()\n",
        "  M_new[[row_num_1,row_num_2]] = M_new[[row_num_2,row_num_1]]\n",
        "  return M_new"
      ],
      "metadata": {
        "id": "Y1nPSxhKQk7K"
      },
      "execution_count": 31,
      "outputs": []
    },
    {
      "cell_type": "code",
      "source": [
        "print(\"Original Matrix : \")\n",
        "print(A_system)\n",
        "print(\"\\nMatrix after exchange its first and third rows\")\n",
        "print(SwapRows(A_system,0,2))"
      ],
      "metadata": {
        "colab": {
          "base_uri": "https://localhost:8080/"
        },
        "id": "VVtFJMywR4ig",
        "outputId": "a78e0484-86bb-4731-eca6-51cd0df34ae3"
      },
      "execution_count": 32,
      "outputs": [
        {
          "output_type": "stream",
          "name": "stdout",
          "text": [
            "Original Matrix : \n",
            "[[  4.  -3.   1. -10.]\n",
            " [  2.   1.   3.   0.]\n",
            " [ -1.   2.  -5.  17.]]\n",
            "\n",
            "Matrix after exchange its first and third rows\n",
            "[[ -1.   2.  -5.  17.]\n",
            " [  2.   1.   3.   0.]\n",
            " [  4.  -3.   1. -10.]]\n"
          ]
        }
      ]
    },
    {
      "cell_type": "code",
      "source": [
        "A_ref = SwapRows(A_system,0,2)\n",
        "print(A_ref)"
      ],
      "metadata": {
        "colab": {
          "base_uri": "https://localhost:8080/"
        },
        "id": "zNhA2kQuSGZY",
        "outputId": "330ab43a-5ae4-4119-f157-c54d2eb8dddb"
      },
      "execution_count": 33,
      "outputs": [
        {
          "output_type": "stream",
          "name": "stdout",
          "text": [
            "[[ -1.   2.  -5.  17.]\n",
            " [  2.   1.   3.   0.]\n",
            " [  4.  -3.   1. -10.]]\n"
          ]
        }
      ]
    },
    {
      "cell_type": "code",
      "source": [
        "A_ref = AddRows(A_ref , 0 , 1 , 2)\n",
        "print(A_ref)"
      ],
      "metadata": {
        "colab": {
          "base_uri": "https://localhost:8080/"
        },
        "id": "xAbQm5FtSUPO",
        "outputId": "3441a46a-e5c2-4875-ab11-3e1734c61d9a"
      },
      "execution_count": 34,
      "outputs": [
        {
          "output_type": "stream",
          "name": "stdout",
          "text": [
            "[[ -1.   2.  -5.  17.]\n",
            " [  0.   5.  -7.  34.]\n",
            " [  4.  -3.   1. -10.]]\n"
          ]
        }
      ]
    },
    {
      "cell_type": "code",
      "source": [
        "A_ref = AddRows(A_ref , 0 , 2 , 4)\n",
        "print(A_ref)"
      ],
      "metadata": {
        "colab": {
          "base_uri": "https://localhost:8080/"
        },
        "id": "zrf8Nn6EScXP",
        "outputId": "2a6dbc21-9036-4302-ab16-2daa291c9e4b"
      },
      "execution_count": 35,
      "outputs": [
        {
          "output_type": "stream",
          "name": "stdout",
          "text": [
            "[[ -1.   2.  -5.  17.]\n",
            " [  0.   5.  -7.  34.]\n",
            " [  0.   5. -19.  58.]]\n"
          ]
        }
      ]
    },
    {
      "cell_type": "code",
      "source": [
        "A_ref = AddRows(A_ref , 1 , 2 , -1)\n",
        "print(A_ref)"
      ],
      "metadata": {
        "colab": {
          "base_uri": "https://localhost:8080/"
        },
        "id": "7ZHGtAHgSmF6",
        "outputId": "2682bc6f-d6b2-4b85-d7d1-b92fded03cf3"
      },
      "execution_count": 36,
      "outputs": [
        {
          "output_type": "stream",
          "name": "stdout",
          "text": [
            "[[ -1.   2.  -5.  17.]\n",
            " [  0.   5.  -7.  34.]\n",
            " [  0.   0. -12.  24.]]\n"
          ]
        }
      ]
    },
    {
      "cell_type": "code",
      "source": [
        "A_ref = MultiplyRow(A_ref , 2 , -1/12)\n",
        "print(A_ref)"
      ],
      "metadata": {
        "colab": {
          "base_uri": "https://localhost:8080/"
        },
        "id": "vUJHUVV5SswG",
        "outputId": "650f976c-27f5-43e2-e8dc-1df954c7d023"
      },
      "execution_count": 37,
      "outputs": [
        {
          "output_type": "stream",
          "name": "stdout",
          "text": [
            "[[-1.  2. -5. 17.]\n",
            " [ 0.  5. -7. 34.]\n",
            " [-0. -0.  1. -2.]]\n"
          ]
        }
      ]
    },
    {
      "cell_type": "code",
      "source": [
        "x_3 = -2\n",
        "x_2 = (A_ref[1,3]-A_ref[1,2]*x_3) / A_ref[1,1]\n",
        "x_1 = (A_ref[0,3]-A_ref[0,2]*x_3-A_ref[0,1]*x_2)/A_ref[0,0]\n",
        "print(x_1 , x_2 , x_3)"
      ],
      "metadata": {
        "colab": {
          "base_uri": "https://localhost:8080/"
        },
        "id": "zojAugZxUbSw",
        "outputId": "79c18ca0-1c11-4d61-ac29-9a9bc6849f89"
      },
      "execution_count": 38,
      "outputs": [
        {
          "output_type": "stream",
          "name": "stdout",
          "text": [
            "1.0 4.0 -2\n"
          ]
        }
      ]
    },
    {
      "cell_type": "code",
      "source": [
        "A_2 = np.array([\n",
        "    [1,1,1],\n",
        "    [0,1,-3],\n",
        "    [2,1,5]\n",
        "],dtype = np.dtype(float))\n",
        "b_2 = np.array([2,1,0],dtype = np.dtype(float))\n",
        "d_2 = np.linalg.det(A_2)\n",
        "print(f\"Determinant of matrix A_2 : {d_2 : .2f}\")"
      ],
      "metadata": {
        "colab": {
          "base_uri": "https://localhost:8080/"
        },
        "id": "NHFA5vtKax3D",
        "outputId": "c621a5aa-6e59-48c8-ff5e-498bfbfac4af"
      },
      "execution_count": 39,
      "outputs": [
        {
          "output_type": "stream",
          "name": "stdout",
          "text": [
            "Determinant of matrix A_2 :  0.00\n"
          ]
        }
      ]
    },
    {
      "cell_type": "code",
      "source": [
        "# x_2 = np.linalg.solve(A_2 , b_2)"
      ],
      "metadata": {
        "colab": {
          "base_uri": "https://localhost:8080/",
          "height": 304
        },
        "id": "YanksyT5bOdr",
        "outputId": "b91e1224-3bec-4236-d96e-0d3b55cf4ee9"
      },
      "execution_count": 42,
      "outputs": [
        {
          "output_type": "error",
          "ename": "LinAlgError",
          "evalue": "Singular matrix",
          "traceback": [
            "\u001b[0;31m---------------------------------------------------------------------------\u001b[0m",
            "\u001b[0;31mLinAlgError\u001b[0m                               Traceback (most recent call last)",
            "\u001b[0;32m<ipython-input-42-e077d0c98481>\u001b[0m in \u001b[0;36m<cell line: 0>\u001b[0;34m()\u001b[0m\n\u001b[0;32m----> 1\u001b[0;31m \u001b[0mx_2\u001b[0m \u001b[0;34m=\u001b[0m \u001b[0mnp\u001b[0m\u001b[0;34m.\u001b[0m\u001b[0mlinalg\u001b[0m\u001b[0;34m.\u001b[0m\u001b[0msolve\u001b[0m\u001b[0;34m(\u001b[0m\u001b[0mA_2\u001b[0m \u001b[0;34m,\u001b[0m \u001b[0mb_2\u001b[0m\u001b[0;34m)\u001b[0m\u001b[0;34m\u001b[0m\u001b[0;34m\u001b[0m\u001b[0m\n\u001b[0m",
            "\u001b[0;32m/usr/local/lib/python3.11/dist-packages/numpy/linalg/linalg.py\u001b[0m in \u001b[0;36msolve\u001b[0;34m(a, b)\u001b[0m\n\u001b[1;32m    407\u001b[0m     \u001b[0msignature\u001b[0m \u001b[0;34m=\u001b[0m \u001b[0;34m'DD->D'\u001b[0m \u001b[0;32mif\u001b[0m \u001b[0misComplexType\u001b[0m\u001b[0;34m(\u001b[0m\u001b[0mt\u001b[0m\u001b[0;34m)\u001b[0m \u001b[0;32melse\u001b[0m \u001b[0;34m'dd->d'\u001b[0m\u001b[0;34m\u001b[0m\u001b[0;34m\u001b[0m\u001b[0m\n\u001b[1;32m    408\u001b[0m     \u001b[0mextobj\u001b[0m \u001b[0;34m=\u001b[0m \u001b[0mget_linalg_error_extobj\u001b[0m\u001b[0;34m(\u001b[0m\u001b[0m_raise_linalgerror_singular\u001b[0m\u001b[0;34m)\u001b[0m\u001b[0;34m\u001b[0m\u001b[0;34m\u001b[0m\u001b[0m\n\u001b[0;32m--> 409\u001b[0;31m     \u001b[0mr\u001b[0m \u001b[0;34m=\u001b[0m \u001b[0mgufunc\u001b[0m\u001b[0;34m(\u001b[0m\u001b[0ma\u001b[0m\u001b[0;34m,\u001b[0m \u001b[0mb\u001b[0m\u001b[0;34m,\u001b[0m \u001b[0msignature\u001b[0m\u001b[0;34m=\u001b[0m\u001b[0msignature\u001b[0m\u001b[0;34m,\u001b[0m \u001b[0mextobj\u001b[0m\u001b[0;34m=\u001b[0m\u001b[0mextobj\u001b[0m\u001b[0;34m)\u001b[0m\u001b[0;34m\u001b[0m\u001b[0;34m\u001b[0m\u001b[0m\n\u001b[0m\u001b[1;32m    410\u001b[0m \u001b[0;34m\u001b[0m\u001b[0m\n\u001b[1;32m    411\u001b[0m     \u001b[0;32mreturn\u001b[0m \u001b[0mwrap\u001b[0m\u001b[0;34m(\u001b[0m\u001b[0mr\u001b[0m\u001b[0;34m.\u001b[0m\u001b[0mastype\u001b[0m\u001b[0;34m(\u001b[0m\u001b[0mresult_t\u001b[0m\u001b[0;34m,\u001b[0m \u001b[0mcopy\u001b[0m\u001b[0;34m=\u001b[0m\u001b[0;32mFalse\u001b[0m\u001b[0;34m)\u001b[0m\u001b[0;34m)\u001b[0m\u001b[0;34m\u001b[0m\u001b[0;34m\u001b[0m\u001b[0m\n",
            "\u001b[0;32m/usr/local/lib/python3.11/dist-packages/numpy/linalg/linalg.py\u001b[0m in \u001b[0;36m_raise_linalgerror_singular\u001b[0;34m(err, flag)\u001b[0m\n\u001b[1;32m    110\u001b[0m \u001b[0;34m\u001b[0m\u001b[0m\n\u001b[1;32m    111\u001b[0m \u001b[0;32mdef\u001b[0m \u001b[0m_raise_linalgerror_singular\u001b[0m\u001b[0;34m(\u001b[0m\u001b[0merr\u001b[0m\u001b[0;34m,\u001b[0m \u001b[0mflag\u001b[0m\u001b[0;34m)\u001b[0m\u001b[0;34m:\u001b[0m\u001b[0;34m\u001b[0m\u001b[0;34m\u001b[0m\u001b[0m\n\u001b[0;32m--> 112\u001b[0;31m     \u001b[0;32mraise\u001b[0m \u001b[0mLinAlgError\u001b[0m\u001b[0;34m(\u001b[0m\u001b[0;34m\"Singular matrix\"\u001b[0m\u001b[0;34m)\u001b[0m\u001b[0;34m\u001b[0m\u001b[0;34m\u001b[0m\u001b[0m\n\u001b[0m\u001b[1;32m    113\u001b[0m \u001b[0;34m\u001b[0m\u001b[0m\n\u001b[1;32m    114\u001b[0m \u001b[0;32mdef\u001b[0m \u001b[0m_raise_linalgerror_nonposdef\u001b[0m\u001b[0;34m(\u001b[0m\u001b[0merr\u001b[0m\u001b[0;34m,\u001b[0m \u001b[0mflag\u001b[0m\u001b[0;34m)\u001b[0m\u001b[0;34m:\u001b[0m\u001b[0;34m\u001b[0m\u001b[0;34m\u001b[0m\u001b[0m\n",
            "\u001b[0;31mLinAlgError\u001b[0m: Singular matrix"
          ]
        }
      ]
    },
    {
      "cell_type": "code",
      "source": [
        "A_2_system = np.hstack((A_2 , b_2.reshape((3,1))))\n",
        "print(A_2_system)"
      ],
      "metadata": {
        "colab": {
          "base_uri": "https://localhost:8080/"
        },
        "id": "c2G3_WcEbT5o",
        "outputId": "979bfa81-b7c9-4c58-9eeb-63655e702393"
      },
      "execution_count": 43,
      "outputs": [
        {
          "output_type": "stream",
          "name": "stdout",
          "text": [
            "[[ 1.  1.  1.  2.]\n",
            " [ 0.  1. -3.  1.]\n",
            " [ 2.  1.  5.  0.]]\n"
          ]
        }
      ]
    },
    {
      "cell_type": "code",
      "source": [
        "A_2_ref = AddRows(A_2_system , 0 , 2 , -2)\n",
        "print(A_2_ref)"
      ],
      "metadata": {
        "colab": {
          "base_uri": "https://localhost:8080/"
        },
        "id": "Gpx8FTskbkFk",
        "outputId": "d909631d-bc02-454b-e8f8-27e9b40da42b"
      },
      "execution_count": 44,
      "outputs": [
        {
          "output_type": "stream",
          "name": "stdout",
          "text": [
            "[[ 1.  1.  1.  2.]\n",
            " [ 0.  1. -3.  1.]\n",
            " [ 0. -1.  3. -4.]]\n"
          ]
        }
      ]
    },
    {
      "cell_type": "code",
      "source": [
        "A_2_ref = AddRows(A_2_ref , 1 ,2 ,1)\n",
        "print(A_2_ref)"
      ],
      "metadata": {
        "colab": {
          "base_uri": "https://localhost:8080/"
        },
        "id": "ctLqZX69btR9",
        "outputId": "3877bbf3-2577-45c6-8bc1-32b55798db36"
      },
      "execution_count": 45,
      "outputs": [
        {
          "output_type": "stream",
          "name": "stdout",
          "text": [
            "[[ 1.  1.  1.  2.]\n",
            " [ 0.  1. -3.  1.]\n",
            " [ 0.  0.  0. -3.]]\n"
          ]
        }
      ]
    },
    {
      "cell_type": "code",
      "source": [
        "b_3 = np.array([2,1,3])"
      ],
      "metadata": {
        "id": "KMglyIpLb7h3"
      },
      "execution_count": 46,
      "outputs": []
    },
    {
      "cell_type": "code",
      "source": [
        "A_3_system = np.hstack((A_2 , b_3.reshape((3,1))))\n",
        "print(A_3_system)"
      ],
      "metadata": {
        "colab": {
          "base_uri": "https://localhost:8080/"
        },
        "id": "-Kwiw0PucAaL",
        "outputId": "8e19238f-7334-4781-c39a-bdd6d2517b5a"
      },
      "execution_count": 47,
      "outputs": [
        {
          "output_type": "stream",
          "name": "stdout",
          "text": [
            "[[ 1.  1.  1.  2.]\n",
            " [ 0.  1. -3.  1.]\n",
            " [ 2.  1.  5.  3.]]\n"
          ]
        }
      ]
    },
    {
      "cell_type": "code",
      "source": [
        "A_3_ref = AddRows(A_3_system , 0 , 2 , -2)\n",
        "print(A_3_ref)"
      ],
      "metadata": {
        "colab": {
          "base_uri": "https://localhost:8080/"
        },
        "id": "FMUpt3D4cVUz",
        "outputId": "393a9bdd-ff2b-480b-d08b-02867d38558e"
      },
      "execution_count": 48,
      "outputs": [
        {
          "output_type": "stream",
          "name": "stdout",
          "text": [
            "[[ 1.  1.  1.  2.]\n",
            " [ 0.  1. -3.  1.]\n",
            " [ 0. -1.  3. -1.]]\n"
          ]
        }
      ]
    },
    {
      "cell_type": "code",
      "source": [
        "A_3_ref = AddRows(A_3_ref , 1 , 2 ,1)\n",
        "print(A_3_ref)"
      ],
      "metadata": {
        "colab": {
          "base_uri": "https://localhost:8080/"
        },
        "id": "iTusgWIyccBY",
        "outputId": "baef44ea-db8f-4a66-b914-e06b5d06d3ec"
      },
      "execution_count": 49,
      "outputs": [
        {
          "output_type": "stream",
          "name": "stdout",
          "text": [
            "[[ 1.  1.  1.  2.]\n",
            " [ 0.  1. -3.  1.]\n",
            " [ 0.  0.  0.  0.]]\n"
          ]
        }
      ]
    },
    {
      "cell_type": "code",
      "source": [],
      "metadata": {
        "id": "d-MmhXJCcpnO"
      },
      "execution_count": null,
      "outputs": []
    }
  ]
}
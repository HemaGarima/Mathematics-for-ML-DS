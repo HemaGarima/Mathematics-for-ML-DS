{
  "nbformat": 4,
  "nbformat_minor": 0,
  "metadata": {
    "colab": {
      "provenance": [],
      "gpuType": "T4",
      "authorship_tag": "ABX9TyP88T4AsLMGdJyrIMDdq2O3",
      "include_colab_link": true
    },
    "kernelspec": {
      "name": "python3",
      "display_name": "Python 3"
    },
    "language_info": {
      "name": "python"
    },
    "accelerator": "GPU"
  },
  "cells": [
    {
      "cell_type": "markdown",
      "metadata": {
        "id": "view-in-github",
        "colab_type": "text"
      },
      "source": [
        "<a href=\"https://colab.research.google.com/github/HemaGarima/Mathematics-for-ML-DS/blob/master/Linear_Algebra_W1_Linear_Systems.ipynb\" target=\"_parent\"><img src=\"https://colab.research.google.com/assets/colab-badge.svg\" alt=\"Open In Colab\"/></a>"
      ]
    },
    {
      "cell_type": "code",
      "execution_count": 1,
      "metadata": {
        "id": "zLiSnv6Thqdw"
      },
      "outputs": [],
      "source": [
        "import numpy as np"
      ]
    },
    {
      "cell_type": "code",
      "source": [
        "A = np.array([[-1,3],[3,2]],dtype = np.dtype(float))"
      ],
      "metadata": {
        "id": "lL6cMvkih1it"
      },
      "execution_count": 3,
      "outputs": []
    },
    {
      "cell_type": "code",
      "source": [
        "b = np.array([7,1],dtype = np.dtype(float))"
      ],
      "metadata": {
        "id": "KEv4POvlxRDS"
      },
      "execution_count": 4,
      "outputs": []
    },
    {
      "cell_type": "code",
      "source": [
        "print(\"Matrix A: \")\n",
        "print(A)\n",
        "print(\"\\nArray b: \")\n",
        "print(b)"
      ],
      "metadata": {
        "colab": {
          "base_uri": "https://localhost:8080/"
        },
        "id": "gmKvPmb6xfZW",
        "outputId": "2468e3f6-1406-4ab5-d617-a9a3475dda53"
      },
      "execution_count": 5,
      "outputs": [
        {
          "output_type": "stream",
          "name": "stdout",
          "text": [
            "Matrix A: \n",
            "[[-1.  3.]\n",
            " [ 3.  2.]]\n",
            "\n",
            "Array b: \n",
            "[7. 1.]\n"
          ]
        }
      ]
    },
    {
      "cell_type": "code",
      "source": [
        "print(f\"Shape of A : {A.shape}\")\n",
        "print(f\"Shape of B : {b.shape}\")"
      ],
      "metadata": {
        "colab": {
          "base_uri": "https://localhost:8080/"
        },
        "id": "FL_tgI6lxyfX",
        "outputId": "a58dac64-0a91-4726-f337-3e0acc409658"
      },
      "execution_count": 6,
      "outputs": [
        {
          "output_type": "stream",
          "name": "stdout",
          "text": [
            "Shape of A : (2, 2)\n",
            "Shape of B : (2,)\n"
          ]
        }
      ]
    },
    {
      "cell_type": "code",
      "source": [
        "x = np.linalg.solve(A,b)\n",
        "print(f\"Solution : {x}\")"
      ],
      "metadata": {
        "colab": {
          "base_uri": "https://localhost:8080/"
        },
        "id": "5sEHPRqFyBMm",
        "outputId": "86ed9970-f4ab-4f66-941d-57c6aa5e8ebb"
      },
      "execution_count": 7,
      "outputs": [
        {
          "output_type": "stream",
          "name": "stdout",
          "text": [
            "Solution : [-1.  2.]\n"
          ]
        }
      ]
    },
    {
      "cell_type": "code",
      "source": [
        "d = np.linalg.det(A)\n",
        "print(f\"Determinant of matrix A: {d:.2f}\")"
      ],
      "metadata": {
        "colab": {
          "base_uri": "https://localhost:8080/"
        },
        "id": "7BMf_PiFyXYN",
        "outputId": "4e0fe37e-71ef-4b99-ff1d-b8fa10c03d87"
      },
      "execution_count": 8,
      "outputs": [
        {
          "output_type": "stream",
          "name": "stdout",
          "text": [
            "Determinant of matrix A: -11.00\n"
          ]
        }
      ]
    },
    {
      "cell_type": "code",
      "source": [
        "A_system = np.hstack((A,b.reshape((2,1))))\n",
        "print(A_system)"
      ],
      "metadata": {
        "colab": {
          "base_uri": "https://localhost:8080/"
        },
        "id": "eDAHhplvyxK2",
        "outputId": "f48404d1-7db9-42af-f7a1-82c189fa85b7"
      },
      "execution_count": 9,
      "outputs": [
        {
          "output_type": "stream",
          "name": "stdout",
          "text": [
            "[[-1.  3.  7.]\n",
            " [ 3.  2.  1.]]\n"
          ]
        }
      ]
    },
    {
      "cell_type": "code",
      "source": [
        "print(A_system[1])"
      ],
      "metadata": {
        "colab": {
          "base_uri": "https://localhost:8080/"
        },
        "id": "ZQ39ixuvy-_x",
        "outputId": "a0b3c70d-04ae-4ba6-b2c1-1c8d5b2fa544"
      },
      "execution_count": 10,
      "outputs": [
        {
          "output_type": "stream",
          "name": "stdout",
          "text": [
            "[3. 2. 1.]\n"
          ]
        }
      ]
    },
    {
      "cell_type": "code",
      "source": [
        "A_system_res = A_system.copy()"
      ],
      "metadata": {
        "id": "BfngQrVSzmxq"
      },
      "execution_count": 11,
      "outputs": []
    },
    {
      "cell_type": "code",
      "source": [
        "A_system_res[1] = 3*A_system_res[0]+A_system_res[1]\n",
        "print(A_system_res)"
      ],
      "metadata": {
        "colab": {
          "base_uri": "https://localhost:8080/"
        },
        "id": "Ki3gvHgezsPt",
        "outputId": "80ae47cd-542c-42e1-8d0e-ae0cdac5d3ed"
      },
      "execution_count": 12,
      "outputs": [
        {
          "output_type": "stream",
          "name": "stdout",
          "text": [
            "[[-1.  3.  7.]\n",
            " [ 0. 11. 22.]]\n"
          ]
        }
      ]
    },
    {
      "cell_type": "code",
      "source": [
        "A_system_res[1] = 1/11 * A_system_res[1]\n",
        "print(A_system_res)"
      ],
      "metadata": {
        "colab": {
          "base_uri": "https://localhost:8080/"
        },
        "id": "d8vQ1i8gz3wV",
        "outputId": "62a1113f-7351-4954-8118-1112d5b0df7f"
      },
      "execution_count": 13,
      "outputs": [
        {
          "output_type": "stream",
          "name": "stdout",
          "text": [
            "[[-1.  3.  7.]\n",
            " [ 0.  1.  2.]]\n"
          ]
        }
      ]
    },
    {
      "cell_type": "code",
      "source": [
        "import matplotlib.pyplot as plt"
      ],
      "metadata": {
        "id": "r9RhW6rs0ZAK"
      },
      "execution_count": 14,
      "outputs": []
    },
    {
      "cell_type": "code",
      "source": [
        "def plot_lines(M):\n",
        "    x_1 = np.linspace(-10,10,100)\n",
        "    x_2_line_1 = (M[0,2] - M[0,0] * x_1) / M[0,1]\n",
        "    x_2_line_2 = (M[1,2] - M[1,0] * x_1) / M[1,1]\n",
        "\n",
        "    _, ax = plt.subplots(figsize=(10, 10))\n",
        "    ax.plot(x_1, x_2_line_1, '-', linewidth=2, color='#0075ff',\n",
        "        label=f'$x_2={-M[0,0]/M[0,1]:.2f}x_1 + {M[0,2]/M[0,1]:.2f}$')\n",
        "    ax.plot(x_1, x_2_line_2, '-', linewidth=2, color='#ff7300',\n",
        "        label=f'$x_2={-M[1,0]/M[1,1]:.2f}x_1 + {M[1,2]/M[1,1]:.2f}$')\n",
        "\n",
        "    A = M[:, 0:-1]\n",
        "    b = M[:, -1::].flatten()\n",
        "    d = np.linalg.det(A)\n",
        "\n",
        "    if d != 0:\n",
        "        solution = np.linalg.solve(A,b)\n",
        "        ax.plot(solution[0], solution[1], '-o', mfc='none',\n",
        "            markersize=10, markeredgecolor='#ff0000', markeredgewidth=2)\n",
        "        ax.text(solution[0]-0.25, solution[1]+0.75, f'$(${solution[0]:.0f}$,{solution[1]:.0f})$', fontsize=14)\n",
        "    ax.tick_params(axis='x', labelsize=14)\n",
        "    ax.tick_params(axis='y', labelsize=14)\n",
        "    ax.set_xticks(np.arange(-10, 10))\n",
        "    ax.set_yticks(np.arange(-10, 10))\n",
        "\n",
        "    plt.xlabel('$x_1$', size=14)\n",
        "    plt.ylabel('$x_2$', size=14)\n",
        "    plt.legend(loc='upper right', fontsize=14)\n",
        "    plt.axis([-10, 10, -10, 10])\n",
        "\n",
        "    plt.grid()\n",
        "    plt.gca().set_aspect(\"equal\")\n",
        "\n",
        "    plt.show()"
      ],
      "metadata": {
        "id": "jrhOg0ee0r4O"
      },
      "execution_count": 17,
      "outputs": []
    },
    {
      "cell_type": "code",
      "source": [
        "plot_lines(A_system)"
      ],
      "metadata": {
        "colab": {
          "base_uri": "https://localhost:8080/",
          "height": 645
        },
        "id": "E4O2QFin2Zm0",
        "outputId": "dc10339c-315a-4b5b-d10d-163876f720ed"
      },
      "execution_count": 18,
      "outputs": [
        {
          "output_type": "display_data",
          "data": {
            "text/plain": [
              "<Figure size 1000x1000 with 1 Axes>"
            ],
            "image/png": "[encoded data removed]"
          },
          "metadata": {}
        }
      ]
    },
    {
      "cell_type": "code",
      "source": [],
      "metadata": {
        "id": "CLHWdmeg2cqV"
      },
      "execution_count": null,
      "outputs": []
    }
  ]
}
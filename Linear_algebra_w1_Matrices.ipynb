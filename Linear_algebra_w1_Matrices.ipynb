{
  "nbformat": 4,
  "nbformat_minor": 0,
  "metadata": {
    "colab": {
      "provenance": [],
      "gpuType": "T4",
      "authorship_tag": "ABX9TyNV8G2hzk3B6JRyJDGlzTsh",
      "include_colab_link": true
    },
    "kernelspec": {
      "name": "python3",
      "display_name": "Python 3"
    },
    "language_info": {
      "name": "python"
    },
    "accelerator": "GPU"
  },
  "cells": [
    {
      "cell_type": "markdown",
      "metadata": {
        "id": "view-in-github",
        "colab_type": "text"
      },
      "source": [
        "<a href=\"https://colab.research.google.com/github/HemaGarima/Mathematics-for-ML-DS/blob/master/Linear_algebra_w1_Matrices.ipynb\" target=\"_parent\"><img src=\"https://colab.research.google.com/assets/colab-badge.svg\" alt=\"Open In Colab\"/></a>"
      ]
    },
    {
      "cell_type": "code",
      "execution_count": 1,
      "metadata": {
        "id": "kJ6XF0kKwuQn"
      },
      "outputs": [],
      "source": [
        "import numpy as np"
      ]
    },
    {
      "cell_type": "code",
      "source": [
        "A = np.array([[-1,3],[3,2]] , dtype = np.dtype(float))\n",
        "b = np.array([7,1] , dtype = np.dtype(float))\n",
        "print(\"Matrix A:\")\n",
        "print(A)\n",
        "print(\"Matrix b:\")\n",
        "print(b)"
      ],
      "metadata": {
        "colab": {
          "base_uri": "https://localhost:8080/"
        },
        "id": "AUDEjzbbyI3T",
        "outputId": "6ce2b720-4a25-452c-9bd9-1ed983321452"
      },
      "execution_count": 3,
      "outputs": [
        {
          "output_type": "stream",
          "name": "stdout",
          "text": [
            "Matrix A:\n",
            "[[-1.  3.]\n",
            " [ 3.  2.]]\n",
            "Matrix b:\n",
            "[7. 1.]\n"
          ]
        }
      ]
    },
    {
      "cell_type": "code",
      "source": [
        "print(f\"Shape of A: {A.shape}\")\n",
        "print(f\"Shape of b: {b.shape}\")"
      ],
      "metadata": {
        "colab": {
          "base_uri": "https://localhost:8080/"
        },
        "id": "nvonkxVYz2v3",
        "outputId": "446073c3-bdd6-40a5-bdaa-4e19f3311e36"
      },
      "execution_count": 4,
      "outputs": [
        {
          "output_type": "stream",
          "name": "stdout",
          "text": [
            "Shape of A: (2, 2)\n",
            "Shape of b: (2,)\n"
          ]
        }
      ]
    },
    {
      "cell_type": "code",
      "source": [
        "x = np.linalg.solve(A,b)\n",
        "print(f\"Solution: {x}\")"
      ],
      "metadata": {
        "colab": {
          "base_uri": "https://localhost:8080/"
        },
        "id": "Cp6utBDB0KVE",
        "outputId": "ee166ac5-0d17-4c59-de63-7e3ce5afee4d"
      },
      "execution_count": 5,
      "outputs": [
        {
          "output_type": "stream",
          "name": "stdout",
          "text": [
            "Solution: [-1.  2.]\n"
          ]
        }
      ]
    },
    {
      "cell_type": "code",
      "source": [
        "-1*-1 + 3*2"
      ],
      "metadata": {
        "colab": {
          "base_uri": "https://localhost:8080/"
        },
        "id": "SzbIaYgl0Z4x",
        "outputId": "242b6d8f-eb1c-400a-8fc7-b6bddb0f2a92"
      },
      "execution_count": 6,
      "outputs": [
        {
          "output_type": "execute_result",
          "data": {
            "text/plain": [
              "7"
            ]
          },
          "metadata": {},
          "execution_count": 6
        }
      ]
    },
    {
      "cell_type": "code",
      "source": [
        "3*-1 + 2*2"
      ],
      "metadata": {
        "colab": {
          "base_uri": "https://localhost:8080/"
        },
        "id": "tglHXNP50izL",
        "outputId": "7d20dda6-9714-4d27-d17f-d7d40e189796"
      },
      "execution_count": 7,
      "outputs": [
        {
          "output_type": "execute_result",
          "data": {
            "text/plain": [
              "1"
            ]
          },
          "metadata": {},
          "execution_count": 7
        }
      ]
    },
    {
      "cell_type": "markdown",
      "source": [
        "- Linear System containing two(or more) equations with the same number of unknown variables will have one solution if and only if matrix A has non-zero determinant."
      ],
      "metadata": {
        "id": "8QIKganR1imi"
      }
    },
    {
      "cell_type": "code",
      "source": [
        "d = np.linalg.det(A)\n",
        "print(f\"Determinant of matrix A: {d:.2f}\")"
      ],
      "metadata": {
        "colab": {
          "base_uri": "https://localhost:8080/"
        },
        "id": "l2F8hFpY0lqs",
        "outputId": "1f06bfbe-2ccd-45bf-c07d-b4dcfb9fcf76"
      },
      "execution_count": 8,
      "outputs": [
        {
          "output_type": "stream",
          "name": "stdout",
          "text": [
            "Determinant of matrix A: -11.00\n"
          ]
        }
      ]
    },
    {
      "cell_type": "code",
      "source": [
        "A_system = np.hstack((A,b.reshape((2,1))))\n",
        "print(A_system)"
      ],
      "metadata": {
        "colab": {
          "base_uri": "https://localhost:8080/"
        },
        "id": "xOCIIOMw2S1R",
        "outputId": "922f4453-088a-4d13-8ded-55d8cc0ac99f"
      },
      "execution_count": 9,
      "outputs": [
        {
          "output_type": "stream",
          "name": "stdout",
          "text": [
            "[[-1.  3.  7.]\n",
            " [ 3.  2.  1.]]\n"
          ]
        }
      ]
    },
    {
      "cell_type": "code",
      "source": [
        "print(A_system[1])"
      ],
      "metadata": {
        "colab": {
          "base_uri": "https://localhost:8080/"
        },
        "id": "ENV3Hzt34hof",
        "outputId": "bd6dee76-7165-4ed6-ceca-e820d9695227"
      },
      "execution_count": 10,
      "outputs": [
        {
          "output_type": "stream",
          "name": "stdout",
          "text": [
            "[3. 2. 1.]\n"
          ]
        }
      ]
    },
    {
      "cell_type": "code",
      "source": [],
      "metadata": {
        "id": "F5VRW6SO4oQK"
      },
      "execution_count": null,
      "outputs": []
    }
  ]
}
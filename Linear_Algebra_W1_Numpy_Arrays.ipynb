{
  "nbformat": 4,
  "nbformat_minor": 0,
  "metadata": {
    "colab": {
      "provenance": [],
      "gpuType": "T4",
      "authorship_tag": "ABX9TyMpsWjR4dAoa3Z/sfuQDHYs",
      "include_colab_link": true
    },
    "kernelspec": {
      "name": "python3",
      "display_name": "Python 3"
    },
    "language_info": {
      "name": "python"
    },
    "accelerator": "GPU"
  },
  "cells": [
    {
      "cell_type": "markdown",
      "metadata": {
        "id": "view-in-github",
        "colab_type": "text"
      },
      "source": [
        "<a href=\"https://colab.research.google.com/github/HemaGarima/Mathematics-for-ML-DS/blob/master/Linear_Algebra_W1_Numpy_Arrays.ipynb\" target=\"_parent\"><img src=\"https://colab.research.google.com/assets/colab-badge.svg\" alt=\"Open In Colab\"/></a>"
      ]
    },
    {
      "cell_type": "markdown",
      "source": [
        "## NumPy - Numerical Python"
      ],
      "metadata": {
        "id": "OCVQ-XaCeAUl"
      }
    },
    {
      "cell_type": "code",
      "execution_count": 1,
      "metadata": {
        "id": "Baetxr9c6qxK"
      },
      "outputs": [],
      "source": [
        "test = \"Hello World\""
      ]
    },
    {
      "cell_type": "code",
      "source": [
        "print(test)"
      ],
      "metadata": {
        "colab": {
          "base_uri": "https://localhost:8080/"
        },
        "id": "eyk6isVce6bJ",
        "outputId": "4283f576-ed80-4f70-a53e-2ad7665b98b5"
      },
      "execution_count": 2,
      "outputs": [
        {
          "output_type": "stream",
          "name": "stdout",
          "text": [
            "Hello World\n"
          ]
        }
      ]
    },
    {
      "cell_type": "code",
      "source": [
        "import numpy as np"
      ],
      "metadata": {
        "id": "0UGrFvsYe9HY"
      },
      "execution_count": 3,
      "outputs": []
    },
    {
      "cell_type": "markdown",
      "source": [
        "- in NumPy , all of the elements within the array are of the same type."
      ],
      "metadata": {
        "id": "rkFxbGMcgLfK"
      }
    },
    {
      "cell_type": "code",
      "source": [
        "one_dimensional_arr = np.array([10,12])\n",
        "print(one_dimensional_arr)"
      ],
      "metadata": {
        "colab": {
          "base_uri": "https://localhost:8080/"
        },
        "id": "JQYk1H3VfeCa",
        "outputId": "79a8474c-ab0c-4c2d-af5f-e34f3d0ce7ce"
      },
      "execution_count": 4,
      "outputs": [
        {
          "output_type": "stream",
          "name": "stdout",
          "text": [
            "[10 12]\n"
          ]
        }
      ]
    },
    {
      "cell_type": "code",
      "source": [
        "a = np.array([1,2,3])\n",
        "print(a)"
      ],
      "metadata": {
        "colab": {
          "base_uri": "https://localhost:8080/"
        },
        "id": "CSZlJM6tgiIE",
        "outputId": "4cf04899-443c-4d47-fbef-9d0355de5c43"
      },
      "execution_count": 5,
      "outputs": [
        {
          "output_type": "stream",
          "name": "stdout",
          "text": [
            "[1 2 3]\n"
          ]
        }
      ]
    },
    {
      "cell_type": "code",
      "source": [
        "b = np.arange(3)\n",
        "print(b)"
      ],
      "metadata": {
        "colab": {
          "base_uri": "https://localhost:8080/"
        },
        "id": "Nu15eNKHg1Vk",
        "outputId": "c683ef88-bec6-42e4-d3b5-f4c2b719625b"
      },
      "execution_count": 7,
      "outputs": [
        {
          "output_type": "stream",
          "name": "stdout",
          "text": [
            "[0 1 2]\n"
          ]
        }
      ]
    },
    {
      "cell_type": "code",
      "source": [
        "c = np.arange(1,20,3)\n",
        "print(c)"
      ],
      "metadata": {
        "colab": {
          "base_uri": "https://localhost:8080/"
        },
        "id": "bav_7paMhCOS",
        "outputId": "31000684-ffcd-48a3-e49c-641afb1bb5fa"
      },
      "execution_count": 8,
      "outputs": [
        {
          "output_type": "stream",
          "name": "stdout",
          "text": [
            "[ 1  4  7 10 13 16 19]\n"
          ]
        }
      ]
    },
    {
      "cell_type": "code",
      "source": [
        "lin_spaced_arr = np.linspace(0,100,5)\n",
        "print(lin_spaced_arr)"
      ],
      "metadata": {
        "colab": {
          "base_uri": "https://localhost:8080/"
        },
        "id": "xSitMOGXhicb",
        "outputId": "3b19a86d-988d-4b97-884a-52f50018d3f2"
      },
      "execution_count": 9,
      "outputs": [
        {
          "output_type": "stream",
          "name": "stdout",
          "text": [
            "[  0.  25.  50.  75. 100.]\n"
          ]
        }
      ]
    },
    {
      "cell_type": "code",
      "source": [
        "lin_spaced_arr_int = np.linspace(0,100,5,dtype = int)\n",
        "print(lin_spaced_arr_int)"
      ],
      "metadata": {
        "colab": {
          "base_uri": "https://localhost:8080/"
        },
        "id": "P1sJN7JMh8qT",
        "outputId": "e1262535-942f-43a5-cb13-9410f06531df"
      },
      "execution_count": 10,
      "outputs": [
        {
          "output_type": "stream",
          "name": "stdout",
          "text": [
            "[  0  25  50  75 100]\n"
          ]
        }
      ]
    },
    {
      "cell_type": "code",
      "source": [
        "c_int = np.arange(1,20,3,dtype = int)\n",
        "print(c_int)"
      ],
      "metadata": {
        "colab": {
          "base_uri": "https://localhost:8080/"
        },
        "id": "hy42TF5IitGO",
        "outputId": "d86038aa-e169-4a24-de20-f6926edc29a8"
      },
      "execution_count": 11,
      "outputs": [
        {
          "output_type": "stream",
          "name": "stdout",
          "text": [
            "[ 1  4  7 10 13 16 19]\n"
          ]
        }
      ]
    },
    {
      "cell_type": "code",
      "source": [
        "b_float = np.arange(3,dtype = float)\n",
        "print(b_float)"
      ],
      "metadata": {
        "colab": {
          "base_uri": "https://localhost:8080/"
        },
        "id": "xAlxH9Mqi__W",
        "outputId": "20f55f39-3d5c-4617-db1e-99bf8396bc1e"
      },
      "execution_count": 12,
      "outputs": [
        {
          "output_type": "stream",
          "name": "stdout",
          "text": [
            "[0. 1. 2.]\n"
          ]
        }
      ]
    },
    {
      "cell_type": "code",
      "source": [
        "char_arr = np.array(['Welcome to Math for ML!'])\n",
        "print(char_arr)\n",
        "print(char_arr.dtype)"
      ],
      "metadata": {
        "colab": {
          "base_uri": "https://localhost:8080/"
        },
        "id": "_KpusvKVjKtY",
        "outputId": "2faedf97-a68e-4d15-9fc2-c0bf6e1d4dd3"
      },
      "execution_count": 13,
      "outputs": [
        {
          "output_type": "stream",
          "name": "stdout",
          "text": [
            "['Welcome to Math for ML!']\n",
            "<U23\n"
          ]
        }
      ]
    },
    {
      "cell_type": "code",
      "source": [
        "ones_arr = np.ones(3)\n",
        "print(ones_arr)"
      ],
      "metadata": {
        "colab": {
          "base_uri": "https://localhost:8080/"
        },
        "id": "tbj_NrtOjWkX",
        "outputId": "c8739ad5-d6a5-4ba9-e179-120e6de75674"
      },
      "execution_count": 14,
      "outputs": [
        {
          "output_type": "stream",
          "name": "stdout",
          "text": [
            "[1. 1. 1.]\n"
          ]
        }
      ]
    },
    {
      "cell_type": "code",
      "source": [
        "zeros_arr = np.zeros(3)\n",
        "print(zeros_arr)"
      ],
      "metadata": {
        "colab": {
          "base_uri": "https://localhost:8080/"
        },
        "id": "iFia_lhEkrwm",
        "outputId": "3c2e5c9c-e57c-4cb9-8691-dbfa6430aa9b"
      },
      "execution_count": 15,
      "outputs": [
        {
          "output_type": "stream",
          "name": "stdout",
          "text": [
            "[0. 0. 0.]\n"
          ]
        }
      ]
    },
    {
      "cell_type": "code",
      "source": [
        "empt_arr = np.empty(3)\n",
        "print(empt_arr)"
      ],
      "metadata": {
        "colab": {
          "base_uri": "https://localhost:8080/"
        },
        "id": "zkO1uFJ4kw_A",
        "outputId": "ddacac6d-df17-4c00-8efb-343cad3708e1"
      },
      "execution_count": 16,
      "outputs": [
        {
          "output_type": "stream",
          "name": "stdout",
          "text": [
            "[0. 0. 0.]\n"
          ]
        }
      ]
    },
    {
      "cell_type": "code",
      "source": [
        "rand_arr = np.random.rand(3)\n",
        "print(rand_arr)"
      ],
      "metadata": {
        "colab": {
          "base_uri": "https://localhost:8080/"
        },
        "id": "3eaKuNLSk2TH",
        "outputId": "d4e68d58-af18-4fd4-b006-d7f06ce2ced4"
      },
      "execution_count": 18,
      "outputs": [
        {
          "output_type": "stream",
          "name": "stdout",
          "text": [
            "[0.50644208 0.29163215 0.17266496]\n"
          ]
        }
      ]
    },
    {
      "cell_type": "code",
      "source": [
        "two_dim_arr = np.array([[1,2,3],[4,5,6]])\n",
        "print(two_dim_arr)"
      ],
      "metadata": {
        "colab": {
          "base_uri": "https://localhost:8080/"
        },
        "id": "VazNaiIQk_R5",
        "outputId": "3deb7ff9-8218-4d85-a85f-ce3f1864bf0f"
      },
      "execution_count": 19,
      "outputs": [
        {
          "output_type": "stream",
          "name": "stdout",
          "text": [
            "[[1 2 3]\n",
            " [4 5 6]]\n"
          ]
        }
      ]
    },
    {
      "cell_type": "code",
      "source": [
        "one_dim_arr = np.array([1,2,3,4,5,6])\n",
        "multi_dim_arr = np.reshape(one_dim_arr , (2,3))\n",
        "print(multi_dim_arr)"
      ],
      "metadata": {
        "colab": {
          "base_uri": "https://localhost:8080/"
        },
        "id": "QK3G2gXrlU3S",
        "outputId": "6b03524e-46cb-454f-a751-8b56fd1d6593"
      },
      "execution_count": 20,
      "outputs": [
        {
          "output_type": "stream",
          "name": "stdout",
          "text": [
            "[[1 2 3]\n",
            " [4 5 6]]\n"
          ]
        }
      ]
    },
    {
      "cell_type": "code",
      "source": [
        "multi_dim_arr.ndim"
      ],
      "metadata": {
        "colab": {
          "base_uri": "https://localhost:8080/"
        },
        "id": "YXoQ3dNUmIWX",
        "outputId": "82edb5a1-9ad2-4ad3-ce65-2e8a9c59a02c"
      },
      "execution_count": 21,
      "outputs": [
        {
          "output_type": "execute_result",
          "data": {
            "text/plain": [
              "2"
            ]
          },
          "metadata": {},
          "execution_count": 21
        }
      ]
    },
    {
      "cell_type": "code",
      "source": [
        "multi_dim_arr.shape"
      ],
      "metadata": {
        "colab": {
          "base_uri": "https://localhost:8080/"
        },
        "id": "UFU6HC84nOGP",
        "outputId": "a0b6cbf4-2e0b-4cbb-a5ad-7119c74a1cf7"
      },
      "execution_count": 22,
      "outputs": [
        {
          "output_type": "execute_result",
          "data": {
            "text/plain": [
              "(2, 3)"
            ]
          },
          "metadata": {},
          "execution_count": 22
        }
      ]
    },
    {
      "cell_type": "code",
      "source": [
        "multi_dim_arr.size"
      ],
      "metadata": {
        "colab": {
          "base_uri": "https://localhost:8080/"
        },
        "id": "KDeak2mAnQ9w",
        "outputId": "9421817b-781b-4336-f498-a64a84f8f462"
      },
      "execution_count": 23,
      "outputs": [
        {
          "output_type": "execute_result",
          "data": {
            "text/plain": [
              "6"
            ]
          },
          "metadata": {},
          "execution_count": 23
        }
      ]
    },
    {
      "cell_type": "code",
      "source": [
        "arr_1 = np.array([2,4,6])\n",
        "arr_2 = np.array([1,3,5])"
      ],
      "metadata": {
        "id": "Rrxi18-KnTi1"
      },
      "execution_count": 24,
      "outputs": []
    },
    {
      "cell_type": "code",
      "source": [
        "addition = arr_1 + arr_2\n",
        "print(addition)"
      ],
      "metadata": {
        "colab": {
          "base_uri": "https://localhost:8080/"
        },
        "id": "Zlq4hfaOnqjM",
        "outputId": "c06ddfa9-73fc-415c-f6cc-8d9a2cbcaa7b"
      },
      "execution_count": 25,
      "outputs": [
        {
          "output_type": "stream",
          "name": "stdout",
          "text": [
            "[ 3  7 11]\n"
          ]
        }
      ]
    },
    {
      "cell_type": "code",
      "source": [
        "subtraction = arr_1 - arr_2\n",
        "print(subtraction)"
      ],
      "metadata": {
        "colab": {
          "base_uri": "https://localhost:8080/"
        },
        "id": "m2UQ8IAinvOT",
        "outputId": "7e38758f-82d7-4d11-c9f5-1d6abcd1d386"
      },
      "execution_count": 26,
      "outputs": [
        {
          "output_type": "stream",
          "name": "stdout",
          "text": [
            "[1 1 1]\n"
          ]
        }
      ]
    },
    {
      "cell_type": "code",
      "source": [
        "multiplication = arr_1 * arr_2\n",
        "print(multiplication)"
      ],
      "metadata": {
        "colab": {
          "base_uri": "https://localhost:8080/"
        },
        "id": "BHIIsTqEn0Bc",
        "outputId": "50591e43-0047-44bd-df01-2ab296c5bca5"
      },
      "execution_count": 27,
      "outputs": [
        {
          "output_type": "stream",
          "name": "stdout",
          "text": [
            "[ 2 12 30]\n"
          ]
        }
      ]
    },
    {
      "cell_type": "markdown",
      "source": [
        "## Multiplying vector with a scalar ( broadcasting )"
      ],
      "metadata": {
        "id": "5ti_NQLIn9mE"
      }
    },
    {
      "cell_type": "code",
      "source": [
        "vector = np.array([1,2])\n",
        "vector * 1.6"
      ],
      "metadata": {
        "colab": {
          "base_uri": "https://localhost:8080/"
        },
        "id": "T119Uqjen6SH",
        "outputId": "5768ae57-d653-434b-fc05-c1f011c8c272"
      },
      "execution_count": 28,
      "outputs": [
        {
          "output_type": "execute_result",
          "data": {
            "text/plain": [
              "array([1.6, 3.2])"
            ]
          },
          "metadata": {},
          "execution_count": 28
        }
      ]
    },
    {
      "cell_type": "code",
      "source": [
        "print(vector)"
      ],
      "metadata": {
        "colab": {
          "base_uri": "https://localhost:8080/"
        },
        "id": "mPioGz2noNCI",
        "outputId": "1f1c561f-1cfb-4cea-d0a1-f19dac862ec2"
      },
      "execution_count": 29,
      "outputs": [
        {
          "output_type": "stream",
          "name": "stdout",
          "text": [
            "[1 2]\n"
          ]
        }
      ]
    },
    {
      "cell_type": "code",
      "source": [
        "vector_ = vector*1.6\n",
        "print(vector_)"
      ],
      "metadata": {
        "colab": {
          "base_uri": "https://localhost:8080/"
        },
        "id": "IFL8Won8oPDo",
        "outputId": "70a22dc5-0240-4f3e-e64d-5197926a0ed7"
      },
      "execution_count": 31,
      "outputs": [
        {
          "output_type": "stream",
          "name": "stdout",
          "text": [
            "[1.6 3.2]\n"
          ]
        }
      ]
    },
    {
      "cell_type": "code",
      "source": [
        "a = ([1,2,3,4,5])\n",
        "print(a[2])"
      ],
      "metadata": {
        "colab": {
          "base_uri": "https://localhost:8080/"
        },
        "id": "AznMZPeIoT2S",
        "outputId": "4a1a81b0-f846-4f27-c61a-1b4bccf95ac4"
      },
      "execution_count": 32,
      "outputs": [
        {
          "output_type": "stream",
          "name": "stdout",
          "text": [
            "3\n"
          ]
        }
      ]
    },
    {
      "cell_type": "code",
      "source": [
        "print(a[0])"
      ],
      "metadata": {
        "colab": {
          "base_uri": "https://localhost:8080/"
        },
        "id": "vcIhu9jzorJ-",
        "outputId": "67949ff7-d242-4e1a-f03b-a52adee2ae40"
      },
      "execution_count": 33,
      "outputs": [
        {
          "output_type": "stream",
          "name": "stdout",
          "text": [
            "1\n"
          ]
        }
      ]
    },
    {
      "cell_type": "code",
      "source": [
        "two_dim = np.array(([1,2,3],[4,5,6],[7,8,9]))"
      ],
      "metadata": {
        "id": "MFdtiDzNo1kk"
      },
      "execution_count": 34,
      "outputs": []
    },
    {
      "cell_type": "code",
      "source": [
        "print(two_dim)"
      ],
      "metadata": {
        "colab": {
          "base_uri": "https://localhost:8080/"
        },
        "id": "91x9pt3lpAo5",
        "outputId": "1ee15284-88e2-4bf4-a72b-460561b04fc3"
      },
      "execution_count": 35,
      "outputs": [
        {
          "output_type": "stream",
          "name": "stdout",
          "text": [
            "[[1 2 3]\n",
            " [4 5 6]\n",
            " [7 8 9]]\n"
          ]
        }
      ]
    },
    {
      "cell_type": "code",
      "source": [
        "print(two_dim[2][1])"
      ],
      "metadata": {
        "colab": {
          "base_uri": "https://localhost:8080/"
        },
        "id": "s9EitQAHpCgd",
        "outputId": "da049cb5-79df-497a-9f30-447b96b81c4f"
      },
      "execution_count": 36,
      "outputs": [
        {
          "output_type": "stream",
          "name": "stdout",
          "text": [
            "8\n"
          ]
        }
      ]
    },
    {
      "cell_type": "code",
      "source": [
        "sliced_arr = a[1:4]\n",
        "print(sliced_arr)"
      ],
      "metadata": {
        "colab": {
          "base_uri": "https://localhost:8080/"
        },
        "id": "gbHtkDKcpHxf",
        "outputId": "c2ad06d9-cfed-40f3-d432-0a6e2db03a3c"
      },
      "execution_count": 38,
      "outputs": [
        {
          "output_type": "stream",
          "name": "stdout",
          "text": [
            "[2, 3, 4]\n"
          ]
        }
      ]
    },
    {
      "cell_type": "code",
      "source": [
        "sliced_arr = a[:3]\n",
        "print(sliced_arr)"
      ],
      "metadata": {
        "colab": {
          "base_uri": "https://localhost:8080/"
        },
        "id": "XOncPrPtsLLo",
        "outputId": "f189af3f-f8f2-4e0a-fba5-98aae2d12025"
      },
      "execution_count": 40,
      "outputs": [
        {
          "output_type": "stream",
          "name": "stdout",
          "text": [
            "[1, 2, 3]\n"
          ]
        }
      ]
    },
    {
      "cell_type": "code",
      "source": [
        "sliced_arr = a[2:]\n",
        "print(sliced_arr)"
      ],
      "metadata": {
        "colab": {
          "base_uri": "https://localhost:8080/"
        },
        "id": "WUSpqheOsqes",
        "outputId": "138f30f8-bbae-4f25-ae66-9a157eab9ca2"
      },
      "execution_count": 41,
      "outputs": [
        {
          "output_type": "stream",
          "name": "stdout",
          "text": [
            "[3, 4, 5]\n"
          ]
        }
      ]
    },
    {
      "cell_type": "code",
      "source": [
        "sliced_arr = a[::2]\n",
        "print(sliced_arr)"
      ],
      "metadata": {
        "colab": {
          "base_uri": "https://localhost:8080/"
        },
        "id": "gwGIqYOps4vA",
        "outputId": "5e21aafa-aefb-4cb2-8158-251d0d96fcfe"
      },
      "execution_count": 42,
      "outputs": [
        {
          "output_type": "stream",
          "name": "stdout",
          "text": [
            "[1, 3, 5]\n"
          ]
        }
      ]
    },
    {
      "cell_type": "code",
      "source": [
        "print(a == a[:] == a[::])"
      ],
      "metadata": {
        "colab": {
          "base_uri": "https://localhost:8080/"
        },
        "id": "7Rqe_vlNtVWu",
        "outputId": "3b7affe2-e77a-4170-e74f-04f16f5dba8f"
      },
      "execution_count": 43,
      "outputs": [
        {
          "output_type": "stream",
          "name": "stdout",
          "text": [
            "True\n"
          ]
        }
      ]
    },
    {
      "cell_type": "code",
      "source": [
        "sliced_arr_1 = two_dim[0:2]\n",
        "sliced_arr_1"
      ],
      "metadata": {
        "colab": {
          "base_uri": "https://localhost:8080/"
        },
        "id": "8gEpGz0zteJ0",
        "outputId": "aa30fa78-b13f-48d4-c3c3-becb87523f27"
      },
      "execution_count": 44,
      "outputs": [
        {
          "output_type": "execute_result",
          "data": {
            "text/plain": [
              "array([[1, 2, 3],\n",
              "       [4, 5, 6]])"
            ]
          },
          "metadata": {},
          "execution_count": 44
        }
      ]
    },
    {
      "cell_type": "code",
      "source": [
        "sliced_two_dim_rows = two_dim[1:3]\n",
        "print(sliced_two_dim_rows)"
      ],
      "metadata": {
        "colab": {
          "base_uri": "https://localhost:8080/"
        },
        "id": "UgoNKJl2tpRG",
        "outputId": "d8601321-a636-481d-9409-f289dfc03e4e"
      },
      "execution_count": 45,
      "outputs": [
        {
          "output_type": "stream",
          "name": "stdout",
          "text": [
            "[[4 5 6]\n",
            " [7 8 9]]\n"
          ]
        }
      ]
    },
    {
      "cell_type": "code",
      "source": [
        "sliced_two_dim_cols = two_dim[:,1]\n",
        "print(sliced_two_dim_cols)"
      ],
      "metadata": {
        "colab": {
          "base_uri": "https://localhost:8080/"
        },
        "id": "DL5vSMlttxeE",
        "outputId": "367844e0-1da5-4419-ba15-aa971c4235d1"
      },
      "execution_count": 46,
      "outputs": [
        {
          "output_type": "stream",
          "name": "stdout",
          "text": [
            "[2 5 8]\n"
          ]
        }
      ]
    },
    {
      "cell_type": "code",
      "source": [
        "a1 = np.array([[1,1],[2,2]])\n",
        "a2 = np.array([[3,3],[4,4]])\n",
        "print(f'a1:\\n{a1}')\n",
        "print(f'a2:\\n{a2}')"
      ],
      "metadata": {
        "colab": {
          "base_uri": "https://localhost:8080/"
        },
        "id": "p8qcCtBpuEwX",
        "outputId": "7f11da78-ddaa-47e8-de15-9d254f6f587a"
      },
      "execution_count": 48,
      "outputs": [
        {
          "output_type": "stream",
          "name": "stdout",
          "text": [
            "a1:\n",
            "[[1 1]\n",
            " [2 2]]\n",
            "a2:\n",
            "[[3 3]\n",
            " [4 4]]\n"
          ]
        }
      ]
    },
    {
      "cell_type": "code",
      "source": [
        "ver_stack = np.vstack((a1,a2))\n",
        "print(ver_stack)"
      ],
      "metadata": {
        "colab": {
          "base_uri": "https://localhost:8080/"
        },
        "id": "BZh_O4jBu-V5",
        "outputId": "c5bffa58-0d84-416c-ecdb-1149544f25f6"
      },
      "execution_count": 49,
      "outputs": [
        {
          "output_type": "stream",
          "name": "stdout",
          "text": [
            "[[1 1]\n",
            " [2 2]\n",
            " [3 3]\n",
            " [4 4]]\n"
          ]
        }
      ]
    },
    {
      "cell_type": "code",
      "source": [
        "horz_stack = np.hstack((a1,a2))\n",
        "print(horz_stack)"
      ],
      "metadata": {
        "colab": {
          "base_uri": "https://localhost:8080/"
        },
        "id": "mXpR0pKhvMOD",
        "outputId": "36b1c3a9-6f12-4733-a991-61d6221ddb38"
      },
      "execution_count": 50,
      "outputs": [
        {
          "output_type": "stream",
          "name": "stdout",
          "text": [
            "[[1 1 3 3]\n",
            " [2 2 4 4]]\n"
          ]
        }
      ]
    },
    {
      "cell_type": "code",
      "source": [
        "pip install quiz"
      ],
      "metadata": {
        "colab": {
          "base_uri": "https://localhost:8080/"
        },
        "id": "ZIX4_2QQvmNR",
        "outputId": "bf37b546-38e8-4c3c-a484-fab2fc36a200"
      },
      "execution_count": 51,
      "outputs": [
        {
          "output_type": "stream",
          "name": "stdout",
          "text": [
            "Collecting quiz\n",
            "  Downloading quiz-0.3.2-py3-none-any.whl.metadata (9.8 kB)\n",
            "Collecting gentools<2.0.0,>=1.2.0 (from quiz)\n",
            "  Downloading gentools-1.2.2-py3-none-any.whl.metadata (4.3 kB)\n",
            "Collecting snug<3.0.0,>=2.2.0 (from quiz)\n",
            "  Downloading snug-2.4.0-py3-none-any.whl.metadata (11 kB)\n",
            "Downloading quiz-0.3.2-py3-none-any.whl (27 kB)\n",
            "Downloading gentools-1.2.2-py3-none-any.whl (9.0 kB)\n",
            "Downloading snug-2.4.0-py3-none-any.whl (18 kB)\n",
            "Installing collected packages: snug, gentools, quiz\n",
            "Successfully installed gentools-1.2.2 quiz-0.3.2 snug-2.4.0\n"
          ]
        }
      ]
    },
    {
      "cell_type": "code",
      "source": [],
      "metadata": {
        "id": "-qcDI9Imvw-a"
      },
      "execution_count": null,
      "outputs": []
    }
  ]
}
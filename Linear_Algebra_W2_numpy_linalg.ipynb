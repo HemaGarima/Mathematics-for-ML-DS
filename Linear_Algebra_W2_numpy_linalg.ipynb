{
  "nbformat": 4,
  "nbformat_minor": 0,
  "metadata": {
    "colab": {
      "provenance": [],
      "gpuType": "T4",
      "authorship_tag": "ABX9TyNyBCLCIOr3mpFlThVB1ybA",
      "include_colab_link": true
    },
    "kernelspec": {
      "name": "python3",
      "display_name": "Python 3"
    },
    "language_info": {
      "name": "python"
    },
    "accelerator": "GPU"
  },
  "cells": [
    {
      "cell_type": "markdown",
      "metadata": {
        "id": "view-in-github",
        "colab_type": "text"
      },
      "source": [
        "<a href=\"https://colab.research.google.com/github/HemaGarima/Mathematics-for-ML-DS/blob/master/Linear_Algebra_W2_numpy_linalg.ipynb\" target=\"_parent\"><img src=\"https://colab.research.google.com/assets/colab-badge.svg\" alt=\"Open In Colab\"/></a>"
      ]
    },
    {
      "cell_type": "code",
      "execution_count": 43,
      "metadata": {
        "id": "siYIMwaTdHmj"
      },
      "outputs": [],
      "source": [
        "import numpy as np"
      ]
    },
    {
      "cell_type": "markdown",
      "source": [
        "# 1 - Representing and solving a system of linear equations using matrices"
      ],
      "metadata": {
        "id": "qpg1-MTUejlw"
      }
    },
    {
      "cell_type": "markdown",
      "source": [
        "### 1.1 - Solving system of linear equations using matrices"
      ],
      "metadata": {
        "id": "cgEeCZUsgzff"
      }
    },
    {
      "cell_type": "code",
      "source": [
        "A = np.array([\n",
        "    [4,-3,1],\n",
        "    [2,1,3],\n",
        "    [-1,2,-5]\n",
        "] , dtype = np.dtype(float))\n",
        "b = np.array([10,0,-7],dtype = np.dtype(float))\n",
        "print(\"Matrix A:\")\n",
        "print(A)\n",
        "print(\"\\nArray b:\")\n",
        "print(b)"
      ],
      "metadata": {
        "colab": {
          "base_uri": "https://localhost:8080/"
        },
        "id": "uOI-zF56eeRy",
        "outputId": "c05fee34-8b22-4845-ca12-6d357fc3a3e9"
      },
      "execution_count": 44,
      "outputs": [
        {
          "output_type": "stream",
          "name": "stdout",
          "text": [
            "Matrix A:\n",
            "[[ 4. -3.  1.]\n",
            " [ 2.  1.  3.]\n",
            " [-1.  2. -5.]]\n",
            "\n",
            "Array b:\n",
            "[10.  0. -7.]\n"
          ]
        }
      ]
    },
    {
      "cell_type": "code",
      "source": [
        "A.shape , b.shape"
      ],
      "metadata": {
        "colab": {
          "base_uri": "https://localhost:8080/"
        },
        "id": "j7AEGjbpfp7l",
        "outputId": "6af76f2d-0ef6-44ad-e293-0c344beb62c6"
      },
      "execution_count": 45,
      "outputs": [
        {
          "output_type": "execute_result",
          "data": {
            "text/plain": [
              "((3, 3), (3,))"
            ]
          },
          "metadata": {},
          "execution_count": 45
        }
      ]
    },
    {
      "cell_type": "code",
      "source": [
        "print(f\"Shape of A: {np.shape(A)}\")\n",
        "print(f\"Shape of B: {np.shape(b)}\")"
      ],
      "metadata": {
        "colab": {
          "base_uri": "https://localhost:8080/"
        },
        "id": "Oz6icRvSf51W",
        "outputId": "e4b865ae-4b1f-4b7d-8bd9-a6bf6319ac27"
      },
      "execution_count": 46,
      "outputs": [
        {
          "output_type": "stream",
          "name": "stdout",
          "text": [
            "Shape of A: (3, 3)\n",
            "Shape of B: (3,)\n"
          ]
        }
      ]
    },
    {
      "cell_type": "code",
      "source": [
        "x = np.linalg.solve(A,b)"
      ],
      "metadata": {
        "id": "xNQvwH7VgFDD"
      },
      "execution_count": 47,
      "outputs": []
    },
    {
      "cell_type": "code",
      "source": [
        "print(f\"Solution : {x}\")"
      ],
      "metadata": {
        "colab": {
          "base_uri": "https://localhost:8080/"
        },
        "id": "fpfd6c94gP-y",
        "outputId": "d4cc8a6e-f629-4942-8f87-78d524880d8c"
      },
      "execution_count": 48,
      "outputs": [
        {
          "output_type": "stream",
          "name": "stdout",
          "text": [
            "Solution : [ 0.66666667 -2.33333333  0.33333333]\n"
          ]
        }
      ]
    },
    {
      "cell_type": "code",
      "source": [
        "4 * 0.6666667 + (-3)*(-2.33333333) + 1*0.3333333"
      ],
      "metadata": {
        "colab": {
          "base_uri": "https://localhost:8080/"
        },
        "id": "Y9zwt1V9gR7I",
        "outputId": "1804bb1c-780f-4e77-88cc-cb3dbc8b6f01"
      },
      "execution_count": 49,
      "outputs": [
        {
          "output_type": "execute_result",
          "data": {
            "text/plain": [
              "10.000000089999999"
            ]
          },
          "metadata": {},
          "execution_count": 49
        }
      ]
    },
    {
      "cell_type": "markdown",
      "source": [
        "### 1.2 - Evaluating the determinant of a matrix"
      ],
      "metadata": {
        "id": "-V3Ww6cAg6hT"
      }
    },
    {
      "cell_type": "code",
      "source": [
        "d = np.linalg.det(A)"
      ],
      "metadata": {
        "id": "ArovvU4Agn3W"
      },
      "execution_count": 50,
      "outputs": []
    },
    {
      "cell_type": "code",
      "source": [
        "print(f\"Determinant of matrix A: {d:.2f}\")"
      ],
      "metadata": {
        "colab": {
          "base_uri": "https://localhost:8080/"
        },
        "id": "qGNrJ07Fin7a",
        "outputId": "4103aacf-f9c3-413b-e641-aa3bb5579323"
      },
      "execution_count": 51,
      "outputs": [
        {
          "output_type": "stream",
          "name": "stdout",
          "text": [
            "Determinant of matrix A: -60.00\n"
          ]
        }
      ]
    },
    {
      "cell_type": "markdown",
      "source": [
        "- Determinant value is non-zero thus matrix is non-singular."
      ],
      "metadata": {
        "id": "LZWjgMrmi-l6"
      }
    },
    {
      "cell_type": "markdown",
      "source": [
        "# 2 - Solving system of linear equations using row reduction"
      ],
      "metadata": {
        "id": "0mQrKBjQjJoD"
      }
    },
    {
      "cell_type": "markdown",
      "source": [
        "### 2.1 - Preparation for row reduction"
      ],
      "metadata": {
        "id": "bZw5sWQ9jRDy"
      }
    },
    {
      "cell_type": "code",
      "source": [
        " b = b.reshape((3,1))"
      ],
      "metadata": {
        "id": "jm5C7HA0joxs"
      },
      "execution_count": 52,
      "outputs": []
    },
    {
      "cell_type": "code",
      "source": [
        "b.shape"
      ],
      "metadata": {
        "colab": {
          "base_uri": "https://localhost:8080/"
        },
        "id": "aBgsxgP8jFvi",
        "outputId": "61dfe93f-033a-43b8-80e1-c5c6a6255d1f"
      },
      "execution_count": 53,
      "outputs": [
        {
          "output_type": "execute_result",
          "data": {
            "text/plain": [
              "(3, 1)"
            ]
          },
          "metadata": {},
          "execution_count": 53
        }
      ]
    },
    {
      "cell_type": "code",
      "source": [
        "A_system = np.hstack((A,b))"
      ],
      "metadata": {
        "id": "FmPPTHigjts2"
      },
      "execution_count": 54,
      "outputs": []
    },
    {
      "cell_type": "code",
      "source": [
        "A_system"
      ],
      "metadata": {
        "colab": {
          "base_uri": "https://localhost:8080/"
        },
        "id": "NcRbrgn7j0LH",
        "outputId": "54f0633e-4f48-4d7d-a25d-94504a5cac95"
      },
      "execution_count": 55,
      "outputs": [
        {
          "output_type": "execute_result",
          "data": {
            "text/plain": [
              "array([[ 4., -3.,  1., 10.],\n",
              "       [ 2.,  1.,  3.,  0.],\n",
              "       [-1.,  2., -5., -7.]])"
            ]
          },
          "metadata": {},
          "execution_count": 55
        }
      ]
    },
    {
      "cell_type": "code",
      "source": [
        "print(A_system)"
      ],
      "metadata": {
        "colab": {
          "base_uri": "https://localhost:8080/"
        },
        "id": "IESck2ODj16x",
        "outputId": "a6189a71-83e5-4a21-b016-a888c681e6d7"
      },
      "execution_count": 56,
      "outputs": [
        {
          "output_type": "stream",
          "name": "stdout",
          "text": [
            "[[ 4. -3.  1. 10.]\n",
            " [ 2.  1.  3.  0.]\n",
            " [-1.  2. -5. -7.]]\n"
          ]
        }
      ]
    },
    {
      "cell_type": "markdown",
      "source": [
        "### 2.2 - Functions for elementary operations"
      ],
      "metadata": {
        "id": "pLEfjRxmj960"
      }
    },
    {
      "cell_type": "code",
      "source": [
        "def MultiplyRow(M , row_num , row_num_multiple):\n",
        "  M_new = M.copy()\n",
        "  M_new[row_num] = M_new[row_num] * row_num_multiple\n",
        "  return M_new"
      ],
      "metadata": {
        "id": "MGWuu7Lpj6lb"
      },
      "execution_count": 57,
      "outputs": []
    },
    {
      "cell_type": "code",
      "source": [
        "print(\"Original matrix : \")\n",
        "print(A_system)"
      ],
      "metadata": {
        "colab": {
          "base_uri": "https://localhost:8080/"
        },
        "id": "JzBLFYqWk5CH",
        "outputId": "2a22ec98-1347-4a7a-9234-79715dc2c2d5"
      },
      "execution_count": 58,
      "outputs": [
        {
          "output_type": "stream",
          "name": "stdout",
          "text": [
            "Original matrix : \n",
            "[[ 4. -3.  1. 10.]\n",
            " [ 2.  1.  3.  0.]\n",
            " [-1.  2. -5. -7.]]\n"
          ]
        }
      ]
    },
    {
      "cell_type": "code",
      "source": [
        "print(\"\\nMatrix after its third row is multiplied by 2:\")\n",
        "print(MultiplyRow(A_system,2,2))"
      ],
      "metadata": {
        "colab": {
          "base_uri": "https://localhost:8080/"
        },
        "id": "UIMX9yjilDrx",
        "outputId": "deca09b2-adde-4840-c624-1df0e6030543"
      },
      "execution_count": 59,
      "outputs": [
        {
          "output_type": "stream",
          "name": "stdout",
          "text": [
            "\n",
            "Matrix after its third row is multiplied by 2:\n",
            "[[  4.  -3.   1.  10.]\n",
            " [  2.   1.   3.   0.]\n",
            " [ -2.   4. -10. -14.]]\n"
          ]
        }
      ]
    },
    {
      "cell_type": "code",
      "source": [
        "def AddRows(M , row_num_1 , row_num_2 , row_num_1_multiple):\n",
        "  M_new = M.copy()\n",
        "  M_new[row_num_2] = row_num_1_multiple * M_new[row_num_1] + M_new[row_num_2]\n",
        "  return M_new"
      ],
      "metadata": {
        "id": "xGVlHT-nlVh8"
      },
      "execution_count": 60,
      "outputs": []
    },
    {
      "cell_type": "code",
      "source": [
        "print(\"Original Matrix : \")\n",
        "print(A_system)"
      ],
      "metadata": {
        "colab": {
          "base_uri": "https://localhost:8080/"
        },
        "id": "LIYRORntmNxe",
        "outputId": "2104680f-0b6f-4419-c47c-cb17aae1fc94"
      },
      "execution_count": 61,
      "outputs": [
        {
          "output_type": "stream",
          "name": "stdout",
          "text": [
            "Original Matrix : \n",
            "[[ 4. -3.  1. 10.]\n",
            " [ 2.  1.  3.  0.]\n",
            " [-1.  2. -5. -7.]]\n"
          ]
        }
      ]
    },
    {
      "cell_type": "code",
      "source": [
        "print(\"\\nMatrix after exchange of the third row with the sum of itself and second row multiplied by 1/2:\")"
      ],
      "metadata": {
        "colab": {
          "base_uri": "https://localhost:8080/"
        },
        "id": "s07PLovUmVOC",
        "outputId": "00441b37-1c08-4b74-94d0-241187deb138"
      },
      "execution_count": 62,
      "outputs": [
        {
          "output_type": "stream",
          "name": "stdout",
          "text": [
            "\n",
            "Matrix after exchange of the third row with the sum of itself and second row multiplied by 1/2:\n"
          ]
        }
      ]
    },
    {
      "cell_type": "code",
      "source": [
        "print(AddRows(A_system , 1, 2, 1/2))"
      ],
      "metadata": {
        "colab": {
          "base_uri": "https://localhost:8080/"
        },
        "id": "bLbJn7Qhmzlv",
        "outputId": "4a5cde63-af00-42c6-b1d7-2ba4fed79751"
      },
      "execution_count": 63,
      "outputs": [
        {
          "output_type": "stream",
          "name": "stdout",
          "text": [
            "[[ 4.  -3.   1.  10. ]\n",
            " [ 2.   1.   3.   0. ]\n",
            " [ 0.   2.5 -3.5 -7. ]]\n"
          ]
        }
      ]
    },
    {
      "cell_type": "code",
      "source": [
        "def SwapRows(M , row_num_1 , row_num_2):\n",
        "  M_new = M.copy()\n",
        "  M_new[[row_num_1 , row_num_2]] = M_new[[row_num_2 , row_num_1]]\n",
        "  return M_new"
      ],
      "metadata": {
        "id": "S3tsEoBdm9PH"
      },
      "execution_count": 64,
      "outputs": []
    },
    {
      "cell_type": "code",
      "source": [
        "print(\"Original Matrix:\")\n",
        "print(A_system)"
      ],
      "metadata": {
        "colab": {
          "base_uri": "https://localhost:8080/"
        },
        "id": "2gJekAiLrHgc",
        "outputId": "afcb576a-946a-4bcf-e3a4-af5ccb374f64"
      },
      "execution_count": 65,
      "outputs": [
        {
          "output_type": "stream",
          "name": "stdout",
          "text": [
            "Original Matrix:\n",
            "[[ 4. -3.  1. 10.]\n",
            " [ 2.  1.  3.  0.]\n",
            " [-1.  2. -5. -7.]]\n"
          ]
        }
      ]
    },
    {
      "cell_type": "code",
      "source": [
        "print((\"\\n Matrix after exchange its first and third rows : \"))\n",
        "print(SwapRows(A_system,0,2))"
      ],
      "metadata": {
        "colab": {
          "base_uri": "https://localhost:8080/"
        },
        "id": "uQzVIPnErRm_",
        "outputId": "dc8dbac0-5b38-4b7a-a124-0d89dfcebbd3"
      },
      "execution_count": 66,
      "outputs": [
        {
          "output_type": "stream",
          "name": "stdout",
          "text": [
            "\n",
            " Matrix after exchange its first and third rows : \n",
            "[[-1.  2. -5. -7.]\n",
            " [ 2.  1.  3.  0.]\n",
            " [ 4. -3.  1. 10.]]\n"
          ]
        }
      ]
    },
    {
      "cell_type": "markdown",
      "source": [
        "### 2.3 - Row Reduction and Solution of the linear system"
      ],
      "metadata": {
        "id": "y8HT_NK0rig0"
      }
    },
    {
      "cell_type": "code",
      "source": [
        "A_ref = SwapRows(A_system,0,2)\n",
        "print(A_ref)"
      ],
      "metadata": {
        "colab": {
          "base_uri": "https://localhost:8080/"
        },
        "id": "Mjuyyq-crcyc",
        "outputId": "a63cf049-7330-4f55-aed6-272d38c9464f"
      },
      "execution_count": 67,
      "outputs": [
        {
          "output_type": "stream",
          "name": "stdout",
          "text": [
            "[[-1.  2. -5. -7.]\n",
            " [ 2.  1.  3.  0.]\n",
            " [ 4. -3.  1. 10.]]\n"
          ]
        }
      ]
    },
    {
      "cell_type": "code",
      "source": [
        "A_ref = AddRows(A_ref , 0 , 1 , 2)\n",
        "print(A_ref)"
      ],
      "metadata": {
        "colab": {
          "base_uri": "https://localhost:8080/"
        },
        "id": "tjQfOdR5siTp",
        "outputId": "636c1b87-1d8c-4353-a87b-0e7374fc1b4f"
      },
      "execution_count": 68,
      "outputs": [
        {
          "output_type": "stream",
          "name": "stdout",
          "text": [
            "[[ -1.   2.  -5.  -7.]\n",
            " [  0.   5.  -7. -14.]\n",
            " [  4.  -3.   1.  10.]]\n"
          ]
        }
      ]
    },
    {
      "cell_type": "code",
      "source": [
        "A_ref = AddRows(A_ref , 0 , 2 , 4)\n",
        "print(A_ref)"
      ],
      "metadata": {
        "colab": {
          "base_uri": "https://localhost:8080/"
        },
        "id": "wY_r8cl7tysR",
        "outputId": "0f728eff-adcd-4a17-d09c-9952ff81d6fc"
      },
      "execution_count": 69,
      "outputs": [
        {
          "output_type": "stream",
          "name": "stdout",
          "text": [
            "[[ -1.   2.  -5.  -7.]\n",
            " [  0.   5.  -7. -14.]\n",
            " [  0.   5. -19. -18.]]\n"
          ]
        }
      ]
    },
    {
      "cell_type": "code",
      "source": [
        "A_ref = AddRows(A_ref , 1 , 2 , -1)\n",
        "print(A_ref)"
      ],
      "metadata": {
        "colab": {
          "base_uri": "https://localhost:8080/"
        },
        "id": "OKYEYAlJuIoJ",
        "outputId": "f313391f-8bfb-433e-ede8-71aa136a8052"
      },
      "execution_count": 70,
      "outputs": [
        {
          "output_type": "stream",
          "name": "stdout",
          "text": [
            "[[ -1.   2.  -5.  -7.]\n",
            " [  0.   5.  -7. -14.]\n",
            " [  0.   0. -12.  -4.]]\n"
          ]
        }
      ]
    },
    {
      "cell_type": "code",
      "source": [
        "A_ref = MultiplyRow(A_ref , 2 , -1/12)\n",
        "print(A_ref)"
      ],
      "metadata": {
        "colab": {
          "base_uri": "https://localhost:8080/"
        },
        "id": "V3vOCz6-uj4A",
        "outputId": "c9de2618-8f75-4cf0-b45d-a24d0cf2da5a"
      },
      "execution_count": 71,
      "outputs": [
        {
          "output_type": "stream",
          "name": "stdout",
          "text": [
            "[[ -1.           2.          -5.          -7.        ]\n",
            " [  0.           5.          -7.         -14.        ]\n",
            " [ -0.          -0.           1.           0.33333333]]\n"
          ]
        }
      ]
    },
    {
      "cell_type": "code",
      "source": [
        "x_3 = -2\n",
        "x_2 = (A_ref[1,3] - A_ref[1,2] * x_3) / A_ref[1,1]\n",
        "x_1 = (A_ref[0,3] - A_ref[0,2] * x_3 - A_ref[0,1] * x_2)/A_ref[0,0]"
      ],
      "metadata": {
        "id": "SUoZeUtOuypC"
      },
      "execution_count": 72,
      "outputs": []
    },
    {
      "cell_type": "code",
      "source": [
        "print(x_1 , x_2 , x_3)"
      ],
      "metadata": {
        "colab": {
          "base_uri": "https://localhost:8080/"
        },
        "id": "h26nwgaKzchu",
        "outputId": "c4bbac90-6f21-4291-c405-637db9dbdd7e"
      },
      "execution_count": 73,
      "outputs": [
        {
          "output_type": "stream",
          "name": "stdout",
          "text": [
            "5.800000000000001 -5.6 -2\n"
          ]
        }
      ]
    },
    {
      "cell_type": "markdown",
      "source": [
        "# 3 - System of Linear Equations with No solutions"
      ],
      "metadata": {
        "id": "gtk0WrDOzle0"
      }
    },
    {
      "cell_type": "code",
      "source": [
        "A_2 = np.array([\n",
        "    [1,1,1],\n",
        "    [0,1,-3],\n",
        "    [2,1,5]\n",
        "],dtype = np.dtype(float))"
      ],
      "metadata": {
        "id": "yX9SN5lvzebS"
      },
      "execution_count": 74,
      "outputs": []
    },
    {
      "cell_type": "code",
      "source": [
        "b_2 = np.array([2,1,0] , dtype = np.dtype(float))"
      ],
      "metadata": {
        "id": "vkJElUVj0Nq8"
      },
      "execution_count": 75,
      "outputs": []
    },
    {
      "cell_type": "code",
      "source": [
        "d_2 = np.linalg.det(A_2)"
      ],
      "metadata": {
        "id": "5GDMMHMz0Vq6"
      },
      "execution_count": 76,
      "outputs": []
    },
    {
      "cell_type": "code",
      "source": [
        "print(f\"Determinant of matrix A_2: {d_2 : .2f}\")"
      ],
      "metadata": {
        "colab": {
          "base_uri": "https://localhost:8080/"
        },
        "id": "ZDG5EdxX0XwE",
        "outputId": "41a41195-2490-44c8-b654-f2a34df05ed5"
      },
      "execution_count": 77,
      "outputs": [
        {
          "output_type": "stream",
          "name": "stdout",
          "text": [
            "Determinant of matrix A_2:  0.00\n"
          ]
        }
      ]
    },
    {
      "cell_type": "markdown",
      "source": [
        "- determinant is zero thus matrix is singular and it has infinitely many solution or no solution"
      ],
      "metadata": {
        "id": "lto9ims90taP"
      }
    },
    {
      "cell_type": "code",
      "source": [
        "# x_2 = np.linalg.solve(A_2 , b_2) --> gives and error because matrix is singular it has no solution or infinitely many solutions"
      ],
      "metadata": {
        "id": "M2FtFJT-0fUK"
      },
      "execution_count": 78,
      "outputs": []
    },
    {
      "cell_type": "code",
      "source": [
        "A_2_system = np.hstack((A_2 , b_2.reshape((3,1))))"
      ],
      "metadata": {
        "id": "4MIZ54dO1W1j"
      },
      "execution_count": 79,
      "outputs": []
    },
    {
      "cell_type": "code",
      "source": [
        "print(A_2_system)"
      ],
      "metadata": {
        "colab": {
          "base_uri": "https://localhost:8080/"
        },
        "id": "3seT0fy_2nQi",
        "outputId": "71ff8947-448a-45b1-bcd3-1ab877c96f5f"
      },
      "execution_count": 80,
      "outputs": [
        {
          "output_type": "stream",
          "name": "stdout",
          "text": [
            "[[ 1.  1.  1.  2.]\n",
            " [ 0.  1. -3.  1.]\n",
            " [ 2.  1.  5.  0.]]\n"
          ]
        }
      ]
    },
    {
      "cell_type": "code",
      "source": [
        "A_2_ref = AddRows(A_2_system,0,2,-2)"
      ],
      "metadata": {
        "id": "GegkXLv42vr_"
      },
      "execution_count": 81,
      "outputs": []
    },
    {
      "cell_type": "code",
      "source": [
        "print(A_2_ref)"
      ],
      "metadata": {
        "colab": {
          "base_uri": "https://localhost:8080/"
        },
        "id": "c3lCSDyx3GIl",
        "outputId": "41ce54cd-e082-4b8a-95a5-54bf0f4aac22"
      },
      "execution_count": 82,
      "outputs": [
        {
          "output_type": "stream",
          "name": "stdout",
          "text": [
            "[[ 1.  1.  1.  2.]\n",
            " [ 0.  1. -3.  1.]\n",
            " [ 0. -1.  3. -4.]]\n"
          ]
        }
      ]
    },
    {
      "cell_type": "code",
      "source": [
        "A_2_ref = AddRows(A_2_ref , 1 , 2 , 1)\n",
        "print(A_2_ref)"
      ],
      "metadata": {
        "colab": {
          "base_uri": "https://localhost:8080/"
        },
        "id": "1MrrCMS63Hwm",
        "outputId": "7d79ca24-a5b7-4f08-a21c-d485049c1a47"
      },
      "execution_count": 83,
      "outputs": [
        {
          "output_type": "stream",
          "name": "stdout",
          "text": [
            "[[ 1.  1.  1.  2.]\n",
            " [ 0.  1. -3.  1.]\n",
            " [ 0.  0.  0. -3.]]\n"
          ]
        }
      ]
    },
    {
      "cell_type": "markdown",
      "source": [
        "- The last row will correspond to the equation 0 = -3 which has no solution."
      ],
      "metadata": {
        "id": "vK_NQkLd3kMo"
      }
    },
    {
      "cell_type": "markdown",
      "source": [
        "# 4 - System of Linear Equations with infinite number of solutions"
      ],
      "metadata": {
        "id": "2gepp_bG3vd8"
      }
    },
    {
      "cell_type": "markdown",
      "source": [
        "- You can bring system (2) to consistency by changing only the free coefficients."
      ],
      "metadata": {
        "id": "XFze-DBM38Yy"
      }
    },
    {
      "cell_type": "code",
      "source": [
        "b_3 = np.array([2,1,3])"
      ],
      "metadata": {
        "id": "VrVP4kDE3fyk"
      },
      "execution_count": 84,
      "outputs": []
    },
    {
      "cell_type": "code",
      "source": [
        "A_3_system = np.hstack((A_2 , b_3.reshape((3,1))))\n",
        "print(A_3_system)"
      ],
      "metadata": {
        "colab": {
          "base_uri": "https://localhost:8080/"
        },
        "id": "2x_c7K2i4HVg",
        "outputId": "27f65df0-c98e-4453-8389-74c1b5833200"
      },
      "execution_count": 85,
      "outputs": [
        {
          "output_type": "stream",
          "name": "stdout",
          "text": [
            "[[ 1.  1.  1.  2.]\n",
            " [ 0.  1. -3.  1.]\n",
            " [ 2.  1.  5.  3.]]\n"
          ]
        }
      ]
    },
    {
      "cell_type": "code",
      "source": [
        "A_3_ref = AddRows(A_3_system , 0 , 2 , -2)\n",
        "print(A_3_ref)"
      ],
      "metadata": {
        "colab": {
          "base_uri": "https://localhost:8080/"
        },
        "id": "aSmNY5i1HoQh",
        "outputId": "9ed9b307-6ef0-499a-8e35-ea8f04680e7f"
      },
      "execution_count": 86,
      "outputs": [
        {
          "output_type": "stream",
          "name": "stdout",
          "text": [
            "[[ 1.  1.  1.  2.]\n",
            " [ 0.  1. -3.  1.]\n",
            " [ 0. -1.  3. -1.]]\n"
          ]
        }
      ]
    },
    {
      "cell_type": "code",
      "source": [
        "A_3_ref = AddRows(A_3_ref , 1 , 2 , 1)\n",
        "print(A_3_ref)"
      ],
      "metadata": {
        "colab": {
          "base_uri": "https://localhost:8080/"
        },
        "id": "E77mib6iH28p",
        "outputId": "1380723b-42c0-4e5f-e25d-d07baa32e63c"
      },
      "execution_count": 87,
      "outputs": [
        {
          "output_type": "stream",
          "name": "stdout",
          "text": [
            "[[ 1.  1.  1.  2.]\n",
            " [ 0.  1. -3.  1.]\n",
            " [ 0.  0.  0.  0.]]\n"
          ]
        }
      ]
    },
    {
      "cell_type": "code",
      "source": [],
      "metadata": {
        "id": "BsdfIgTFIDTj"
      },
      "execution_count": 87,
      "outputs": []
    }
  ]
}